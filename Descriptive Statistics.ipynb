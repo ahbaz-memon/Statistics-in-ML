{
 "cells": [
  {
   "cell_type": "markdown",
   "metadata": {},
   "source": [
    "## A. Measure of Central Dendancy"
   ]
  },
  {
   "cell_type": "code",
   "execution_count": 1,
   "metadata": {},
   "outputs": [],
   "source": [
    "import numpy as np\n",
    "import matplotlib.pyplot as plt\n",
    "import scipy.stats as st"
   ]
  },
  {
   "cell_type": "code",
   "execution_count": 2,
   "metadata": {},
   "outputs": [],
   "source": [
    "a=np.random.randint(0,100,(50,))"
   ]
  },
  {
   "cell_type": "code",
   "execution_count": 3,
   "metadata": {},
   "outputs": [
    {
     "data": {
      "text/plain": [
       "array([34, 29,  7, 51, 66, 59,  7,  8, 61, 60, 93, 93, 99, 92, 79, 59,  3,\n",
       "       77, 66, 91, 40, 99, 39, 72, 75, 13, 36,  8, 19, 35, 89, 50, 88, 68,\n",
       "       97, 86, 71, 21, 83, 26, 41, 32,  5, 72, 77,  3, 72, 55, 61,  4])"
      ]
     },
     "execution_count": 3,
     "metadata": {},
     "output_type": "execute_result"
    }
   ],
   "source": [
    "a"
   ]
  },
  {
   "cell_type": "code",
   "execution_count": 4,
   "metadata": {},
   "outputs": [
    {
     "data": {
      "image/png": "[encoded data removed]",
      "text/plain": [
       "<Figure size 432x288 with 1 Axes>"
      ]
     },
     "metadata": {
      "needs_background": "light"
     },
     "output_type": "display_data"
    }
   ],
   "source": [
    "plt.scatter(a,a*0,alpha=0.6)\n",
    "plt.show()"
   ]
  },
  {
   "cell_type": "code",
   "execution_count": 5,
   "metadata": {},
   "outputs": [
    {
     "data": {
      "text/plain": [
       "53.42"
      ]
     },
     "execution_count": 5,
     "metadata": {},
     "output_type": "execute_result"
    }
   ],
   "source": [
    "a.mean()"
   ]
  },
  {
   "cell_type": "code",
   "execution_count": 6,
   "metadata": {},
   "outputs": [
    {
     "data": {
      "text/plain": [
       "59.5"
      ]
     },
     "execution_count": 6,
     "metadata": {},
     "output_type": "execute_result"
    }
   ],
   "source": [
    "np.median(a)"
   ]
  },
  {
   "cell_type": "code",
   "execution_count": 7,
   "metadata": {},
   "outputs": [
    {
     "data": {
      "text/plain": [
       "ModeResult(mode=array([72]), count=array([3]))"
      ]
     },
     "execution_count": 7,
     "metadata": {},
     "output_type": "execute_result"
    }
   ],
   "source": [
    "st.mode(a)"
   ]
  },
  {
   "cell_type": "code",
   "execution_count": 8,
   "metadata": {},
   "outputs": [
    {
     "data": {
      "image/png": "[encoded data removed]",
      "text/plain": [
       "<Figure size 432x288 with 1 Axes>"
      ]
     },
     "metadata": {
      "needs_background": "light"
     },
     "output_type": "display_data"
    }
   ],
   "source": [
    "plt.hist(a,alpha=0.7)\n",
    "plt.show()"
   ]
  },
  {
   "cell_type": "markdown",
   "metadata": {},
   "source": [
    "## B. Measure of Spread/Dispersion"
   ]
  },
  {
   "cell_type": "code",
   "execution_count": 23,
   "metadata": {},
   "outputs": [
    {
     "name": "stdout",
     "output_type": "stream",
     "text": [
      "Range :  96\n"
     ]
    }
   ],
   "source": [
    "ran=a.max()-a.min()\n",
    "print(\"Range : \",ran)"
   ]
  },
  {
   "cell_type": "code",
   "execution_count": 25,
   "metadata": {},
   "outputs": [
    {
     "name": "stdout",
     "output_type": "stream",
     "text": [
      "IQR :  47.25\n"
     ]
    }
   ],
   "source": [
    "print(\"IQR : \",np.percentile(a,75)-np.percentile(a,25))"
   ]
  },
  {
   "cell_type": "code",
   "execution_count": 32,
   "metadata": {},
   "outputs": [
    {
     "name": "stdout",
     "output_type": "stream",
     "text": [
      "mean absolute deviation :  26.5696\n"
     ]
    }
   ],
   "source": [
    "print(\"mean absolute deviation : \",(np.absolute(a-a.mean())).mean())"
   ]
  },
  {
   "cell_type": "code",
   "execution_count": 33,
   "metadata": {},
   "outputs": [
    {
     "name": "stdout",
     "output_type": "stream",
     "text": [
      "Variance :  927.5636\n"
     ]
    }
   ],
   "source": [
    "print(\"Variance : \",a.var())"
   ]
  },
  {
   "cell_type": "code",
   "execution_count": 34,
   "metadata": {},
   "outputs": [
    {
     "name": "stdout",
     "output_type": "stream",
     "text": [
      "Standard deviation :  30.45592881525697\n"
     ]
    }
   ],
   "source": [
    "print(\"Standard deviation : \",a.std())"
   ]
  },
  {
   "cell_type": "markdown",
   "metadata": {},
   "source": [
    "## C. Measure of Position"
   ]
  },
  {
   "cell_type": "code",
   "execution_count": 21,
   "metadata": {},
   "outputs": [
    {
     "name": "stdout",
     "output_type": "stream",
     "text": [
      "Percentile-20% is :  20.6\n"
     ]
    }
   ],
   "source": [
    "print(\"Percentile-20% is : \",np.percentile(a,20))"
   ]
  },
  {
   "cell_type": "code",
   "execution_count": 22,
   "metadata": {},
   "outputs": [
    {
     "name": "stdout",
     "output_type": "stream",
     "text": [
      "Q1-25% is :  29.75\n",
      "Q1-50% is :  59.5\n",
      "Q1-75% is :  77.0\n"
     ]
    }
   ],
   "source": [
    "print(\"Q1-25% is : \",np.percentile(a,25))\n",
    "print(\"Q1-50% is : \",np.percentile(a,50))\n",
    "print(\"Q1-75% is : \",np.percentile(a,75))"
   ]
  },
  {
   "cell_type": "code",
   "execution_count": 35,
   "metadata": {},
   "outputs": [
    {
     "name": "stdout",
     "output_type": "stream",
     "text": [
      "Z score of all points in a :  [32.24599012 27.24599012  5.24599012 49.24599012 64.24599012 57.24599012\n",
      "  5.24599012  6.24599012 59.24599012 58.24599012 91.24599012 91.24599012\n",
      " 97.24599012 90.24599012 77.24599012 57.24599012  1.24599012 75.24599012\n",
      " 64.24599012 89.24599012 38.24599012 97.24599012 37.24599012 70.24599012\n",
      " 73.24599012 11.24599012 34.24599012  6.24599012 17.24599012 33.24599012\n",
      " 87.24599012 48.24599012 86.24599012 66.24599012 95.24599012 84.24599012\n",
      " 69.24599012 19.24599012 81.24599012 24.24599012 39.24599012 30.24599012\n",
      "  3.24599012 70.24599012 75.24599012  1.24599012 70.24599012 53.24599012\n",
      " 59.24599012  2.24599012]\n"
     ]
    }
   ],
   "source": [
    "z_score_a=a-a.mean()/a.std()\n",
    "print(\"Z score of all points in a : \",z_score_a)"
   ]
  },
  {
   "cell_type": "code",
   "execution_count": null,
   "metadata": {},
   "outputs": [],
   "source": []
  }
 ],
 "metadata": {
  "kernelspec": {
   "display_name": "Python 3",
   "language": "python",
   "name": "python3"
  },
  "language_info": {
   "codemirror_mode": {
    "name": "ipython",
    "version": 3
   },
   "file_extension": ".py",
   "mimetype": "text/x-python",
   "name": "python",
   "nbconvert_exporter": "python",
   "pygments_lexer": "ipython3",
   "version": "3.8.0"
  }
 },
 "nbformat": 4,
 "nbformat_minor": 4
}
